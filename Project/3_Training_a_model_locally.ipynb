{
 "cells": [
  {
   "cell_type": "markdown",
   "metadata": {},
   "source": [
    "# Plagiarism Detection Model (Local optimization version)\n",
    "\n",
    "**Note to reviewer:** I have access to workstation with a beefy GPU (Geforce Ti 2080 RTX) so I prefer testing everything locally before spending some time (and money) on a Sagemaker notebook instance.\n",
    "\n",
    "This noteboook contains all the code used to create and test the two models locally before moving them to the appropriate files. Its only goal is to speed up my completion of the project.\n"
   ]
  },
  {
   "cell_type": "code",
   "execution_count": 1,
   "metadata": {
    "ExecuteTime": {
     "end_time": "2020-04-22T16:05:27.393599Z",
     "start_time": "2020-04-22T16:05:26.376019Z"
    }
   },
   "outputs": [],
   "source": [
    "# Imports\n",
    "import os\n",
    "import sys\n",
    "import subprocess\n",
    "import pandas as pd\n",
    "from sklearn.naive_bayes import GaussianNB\n",
    "from sklearn.model_selection import GridSearchCV\n",
    "from sklearn.metrics import accuracy_score, confusion_matrix\n",
    "import torch\n",
    "import torch.nn.functional as F\n",
    "import torch.nn as nn\n",
    "import matplotlib as mpl\n",
    "mpl.rcParams[\"figure.dpi\"] = 125\n",
    "from matplotlib import pyplot as plt\n",
    "import seaborn as sns\n",
    "import numpy as np"
   ]
  },
  {
   "cell_type": "code",
   "execution_count": 2,
   "metadata": {
    "ExecuteTime": {
     "end_time": "2020-04-22T16:05:27.403741Z",
     "start_time": "2020-04-22T16:05:27.395503Z"
    }
   },
   "outputs": [],
   "source": [
    "# Dummy environment variables to mimic AWS environment\n",
    "AWS_env = {\n",
    "    'SM_HOSTS': \"{}\",\n",
    "    'SM_CURRENT_HOST': \"localhost\",\n",
    "    'SM_MODEL_DIR': \"model\",\n",
    "    'SM_CHANNEL_TRAIN': \"plagiarism_data\",\n",
    "    'SM_OUTPUT_DATA_DIR': \"\",\n",
    "    'SM_NUM_GPUS': \"1\"\n",
    "}\n",
    "\n",
    "\n",
    "# Useful function to run external script\n",
    "def run_script(script_path, script_args={}):\n",
    "    python_exe = sys.executable\n",
    "\n",
    "    args = [\n",
    "        python_exe,\n",
    "        script_path,\n",
    "    ]\n",
    "\n",
    "    for key, val in script_args.items():\n",
    "        args.extend([\"--{}\".format(key), str(val)])\n",
    "\n",
    "    env = AWS_env.copy()  # Copy in case we modify it\n",
    "\n",
    "    print(\"Running the following command:\\n{}\".format(\n",
    "        \" \".join(args)))\n",
    "\n",
    "    output = subprocess.run(\n",
    "       args,\n",
    "       env=env,\n",
    "       capture_output=True,\n",
    "       text=True\n",
    "       )\n",
    "\n",
    "    if output.returncode != 0:\n",
    "        raise RuntimeError(\n",
    "            \"Script failed!\\nOutput:\\n{}\".format(output.stderr))\n",
    "    else:\n",
    "        print(\"Script gracefully ended.\\nOutput:\\n{}\".format(output.stdout))\n",
    "\n",
    "def print_model_validation(model):\n",
    "    try:\n",
    "        predictions = model.predict(test_x.values)\n",
    "    except AttributeError:\n",
    "        # Pytorch model\n",
    "        predictions = np.round(model.eval()(torch.Tensor(test_x.values)).tolist()).astype(int)\n",
    "    \n",
    "    score = accuracy_score(test_y.values, predictions) * 100\n",
    "    print(\"Results for {}:\".format(model.__class__.__name__))\n",
    "    print(\"- Accuracy: {:.2f}% -> {}\".format(score, \"PASSED\" if score > 90 else \"FAILED\"))\n",
    "    print(\"- Confusion matrix:\")\n",
    "    print(confusion_matrix(test_y.values, predictions))\n",
    "    "
   ]
  },
  {
   "cell_type": "code",
   "execution_count": 3,
   "metadata": {
    "ExecuteTime": {
     "end_time": "2020-04-22T16:05:27.534725Z",
     "start_time": "2020-04-22T16:05:27.405328Z"
    },
    "run_control": {
     "marked": false
    }
   },
   "outputs": [],
   "source": [
    "# Load data\n",
    "\n",
    "train_data = pd.read_csv(\"plagiarism_data/train.csv\", header=None, names=None)\n",
    "\n",
    "# Labels are in the first column\n",
    "train_y = train_data.iloc[:,0]\n",
    "train_x = train_data.iloc[:,1:]\n",
    "\n",
    "test_data = pd.read_csv(\"plagiarism_data/train.csv\", header=None, names=None)\n",
    "\n",
    "# Labels are in the first column\n",
    "test_y = train_data.iloc[:,0]\n",
    "test_x = train_data.iloc[:,1:]"
   ]
  },
  {
   "cell_type": "markdown",
   "metadata": {
    "ExecuteTime": {
     "end_time": "2020-04-22T13:51:50.348753Z",
     "start_time": "2020-04-22T13:51:50.342542Z"
    }
   },
   "source": [
    "## Creating and testing the Naive Bayes classifier"
   ]
  },
  {
   "cell_type": "code",
   "execution_count": 4,
   "metadata": {
    "ExecuteTime": {
     "end_time": "2020-04-22T16:05:27.667843Z",
     "start_time": "2020-04-22T16:05:27.536386Z"
    }
   },
   "outputs": [
    {
     "name": "stdout",
     "output_type": "stream",
     "text": [
      "Results for GaussianNB:\n",
      "- Accuracy: 94.29% -> PASSED\n",
      "- Confusion matrix:\n",
      "[[27  1]\n",
      " [ 3 39]]\n",
      "CPU times: user 4.76 ms, sys: 500 µs, total: 5.26 ms\n",
      "Wall time: 4.58 ms\n"
     ]
    }
   ],
   "source": [
    "%%time\n",
    "\n",
    "clf = GaussianNB() # Base estimator\n",
    "clf.fit(train_x, train_y)\n",
    "\n",
    "print_model_validation(clf)\n"
   ]
  },
  {
   "cell_type": "markdown",
   "metadata": {
    "ExecuteTime": {
     "end_time": "2020-04-22T14:32:26.861523Z",
     "start_time": "2020-04-22T14:32:26.857421Z"
    }
   },
   "source": [
    "## Creating and testing the PyTorch model"
   ]
  },
  {
   "cell_type": "code",
   "execution_count": 5,
   "metadata": {
    "ExecuteTime": {
     "end_time": "2020-04-22T16:05:27.796179Z",
     "start_time": "2020-04-22T16:05:27.669742Z"
    }
   },
   "outputs": [],
   "source": [
    "class BinaryClassifier(nn.Module):\n",
    "    def __init__(self, input_features, hidden_dim, output_dim):\n",
    "        super(BinaryClassifier, self).__init__()\n",
    "        \n",
    "        self.input_layer = nn.Linear(input_features, hidden_dim)\n",
    "        self.dropout = nn.Dropout(0.2)\n",
    "        self.hidden_layer = nn.Linear(hidden_dim, output_dim)\n",
    "        self.output_layer = nn.Linear(output_dim, 1)\n",
    "        self.activation = nn.Sigmoid()\n",
    "    \n",
    "    def forward(self, data):\n",
    "        \n",
    "        a1 = self.input_layer(data)\n",
    "        dout = self.dropout(a1)\n",
    "        a2 = self.hidden_layer(dout)\n",
    "        a3 = self.output_layer(a2)\n",
    "        y = self.activation(a3.squeeze())\n",
    "        \n",
    "        return y\n"
   ]
  },
  {
   "cell_type": "code",
   "execution_count": 6,
   "metadata": {
    "ExecuteTime": {
     "end_time": "2020-04-22T16:05:30.441123Z",
     "start_time": "2020-04-22T16:05:27.799570Z"
    }
   },
   "outputs": [
    {
     "name": "stdout",
     "output_type": "stream",
     "text": [
      "Get train data loader.\n",
      "Epoch: 1, Loss: 0.7169046146529061\n",
      "Epoch: 2, Loss: 0.6790375454085213\n",
      "Epoch: 3, Loss: 0.6525273408208575\n",
      "Epoch: 4, Loss: 0.6004715647016253\n",
      "Epoch: 5, Loss: 0.5747519476073129\n",
      "Epoch: 6, Loss: 0.546665221452713\n",
      "Epoch: 7, Loss: 0.5107447334698269\n",
      "Epoch: 8, Loss: 0.49570442949022564\n",
      "Epoch: 9, Loss: 0.4779541237013681\n",
      "Epoch: 10, Loss: 0.4553591821874891\n",
      "Epoch: 11, Loss: 0.44450793521744864\n",
      "Epoch: 12, Loss: 0.42405071428843905\n",
      "Epoch: 13, Loss: 0.4104349230016981\n",
      "Epoch: 14, Loss: 0.40060392235006603\n",
      "Epoch: 15, Loss: 0.37772044113704134\n",
      "Epoch: 16, Loss: 0.36760539029325756\n",
      "Epoch: 17, Loss: 0.35271851292678286\n",
      "Epoch: 18, Loss: 0.3392208750758852\n",
      "Epoch: 19, Loss: 0.3526063178266798\n",
      "Epoch: 20, Loss: 0.32492925226688385\n",
      "Epoch: 21, Loss: 0.31409065212522236\n",
      "Epoch: 22, Loss: 0.31860547619206564\n",
      "Epoch: 23, Loss: 0.3008038082293102\n",
      "Epoch: 24, Loss: 0.30107676557132174\n",
      "Epoch: 25, Loss: 0.28189000274453846\n",
      "Epoch: 26, Loss: 0.28286908141204287\n",
      "Epoch: 27, Loss: 0.29100819464240757\n",
      "Epoch: 28, Loss: 0.25435203846011845\n",
      "Epoch: 29, Loss: 0.25361450016498566\n",
      "Epoch: 30, Loss: 0.2529908525092261\n",
      "Epoch: 31, Loss: 0.23942406901291438\n",
      "Epoch: 32, Loss: 0.26821547959532055\n",
      "Epoch: 33, Loss: 0.257971353828907\n",
      "Epoch: 34, Loss: 0.26316711945193155\n",
      "Epoch: 35, Loss: 0.23373656507049287\n",
      "Epoch: 36, Loss: 0.2502230554819107\n",
      "Epoch: 37, Loss: 0.231513041470732\n",
      "Epoch: 38, Loss: 0.2105734944343567\n",
      "Epoch: 39, Loss: 0.21817528030702046\n",
      "Epoch: 40, Loss: 0.25019356714827673\n",
      "Epoch: 41, Loss: 0.23460220439093454\n",
      "Epoch: 42, Loss: 0.2258731233222144\n",
      "Epoch: 43, Loss: 0.23854431084224156\n",
      "Epoch: 44, Loss: 0.21993845381907054\n",
      "Epoch: 45, Loss: 0.2311700518642153\n",
      "Epoch: 46, Loss: 0.2370893880724907\n",
      "Epoch: 47, Loss: 0.22050470858812332\n",
      "Epoch: 48, Loss: 0.23525898584297725\n",
      "Epoch: 49, Loss: 0.21155952928321703\n",
      "Epoch: 50, Loss: 0.21367717214993068\n"
     ]
    }
   ],
   "source": [
    "from source_pytorch.train import _get_train_data_loader, train\n",
    "\n",
    "device = torch.device(\"cuda\" if torch.cuda.is_available() else \"cpu\")\n",
    "\n",
    "model = BinaryClassifier(2, 32, 8).to(device)\n",
    "\n",
    "train_loader = _get_train_data_loader(10, \"plagiarism_data/\")\n",
    "\n",
    "optimizer = torch.optim.Adam(model.parameters(), lr=0.001)\n",
    "criterion = nn.BCELoss()\n",
    "\n",
    "losses = train(model, train_loader, 50, criterion, optimizer, device)"
   ]
  },
  {
   "cell_type": "code",
   "execution_count": 7,
   "metadata": {
    "ExecuteTime": {
     "end_time": "2020-04-22T16:05:30.591193Z",
     "start_time": "2020-04-22T16:05:30.443513Z"
    }
   },
   "outputs": [
    {
     "data": {
      "image/png": "[encoded data removed]",
      "text/plain": [
       "<Figure size 432x288 with 1 Axes>"
      ]
     },
     "metadata": {
      "needs_background": "light"
     },
     "output_type": "display_data"
    }
   ],
   "source": [
    "# Check if the number of epochs is OK\n",
    "sns.lineplot(x=np.arange(len(losses)), y=losses, palette=\"muted\")\n",
    "plt.xlabel(\"epochs\")\n",
    "plt.ylabel(\"loss\")\n",
    "plt.show()"
   ]
  },
  {
   "cell_type": "code",
   "execution_count": 8,
   "metadata": {
    "ExecuteTime": {
     "end_time": "2020-04-22T16:05:30.651878Z",
     "start_time": "2020-04-22T16:05:30.592605Z"
    }
   },
   "outputs": [
    {
     "name": "stdout",
     "output_type": "stream",
     "text": [
      "Results for BinaryClassifier:\n",
      "- Accuracy: 95.71% -> PASSED\n",
      "- Confusion matrix:\n",
      "[[28  0]\n",
      " [ 3 39]]\n"
     ]
    }
   ],
   "source": [
    "print_model_validation(model.to(torch.device(\"cpu\")))"
   ]
  }
 ],
 "metadata": {
  "kernelspec": {
   "display_name": "Python 3",
   "language": "python",
   "name": "python3"
  },
  "language_info": {
   "codemirror_mode": {
    "name": "ipython",
    "version": 3
   },
   "file_extension": ".py",
   "mimetype": "text/x-python",
   "name": "python",
   "nbconvert_exporter": "python",
   "pygments_lexer": "ipython3",
   "version": "3.7.7"
  },
  "varInspector": {
   "cols": {
    "lenName": 16,
    "lenType": 16,
    "lenVar": 40
   },
   "kernels_config": {
    "python": {
     "delete_cmd_postfix": "",
     "delete_cmd_prefix": "del ",
     "library": "var_list.py",
     "varRefreshCmd": "print(var_dic_list())"
    },
    "r": {
     "delete_cmd_postfix": ") ",
     "delete_cmd_prefix": "rm(",
     "library": "var_list.r",
     "varRefreshCmd": "cat(var_dic_list()) "
    }
   },
   "types_to_exclude": [
    "module",
    "function",
    "builtin_function_or_method",
    "instance",
    "_Feature"
   ],
   "window_display": false
  }
 },
 "nbformat": 4,
 "nbformat_minor": 4
}
