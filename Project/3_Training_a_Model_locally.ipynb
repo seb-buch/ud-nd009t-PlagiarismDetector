{
 "cells": [
  {
   "cell_type": "markdown",
   "metadata": {},
   "source": [
    "# Plagiarism Detection Model (Local optimization version)\n",
    "\n",
    "**Note to reviewer:** I have access to workstation with a beefy GPU (Geforce Ti 2080 RTX) so I prefer testing everything locally before spending some time (and money) on a Sagemaker notebook instance.\n",
    "\n",
    "This noteboook contains all the code used to create and test the two models locally before moving them to the appropriate files. Its only goal is to speed up my completion of the project.\n"
   ]
  },
  {
   "cell_type": "code",
   "execution_count": 1,
   "metadata": {
    "ExecuteTime": {
     "end_time": "2020-04-23T09:00:10.006018Z",
     "start_time": "2020-04-23T09:00:08.981253Z"
    }
   },
   "outputs": [],
   "source": [
    "# Imports\n",
    "import os\n",
    "import sys\n",
    "import subprocess\n",
    "import pandas as pd\n",
    "from sklearn.naive_bayes import GaussianNB\n",
    "from sklearn.model_selection import GridSearchCV\n",
    "from joblib import load\n",
    "from sklearn.metrics import accuracy_score, ConfusionMatrixDisplay, confusion_matrix\n",
    "import torch\n",
    "import torch.nn.functional as F\n",
    "import torch.nn as nn\n",
    "import matplotlib as mpl\n",
    "mpl.rcParams[\"figure.dpi\"] = 125\n",
    "from matplotlib import pyplot as plt\n",
    "import seaborn as sns\n",
    "import numpy as np\n",
    "\n",
    "sys.path.append(\"source_pytorch/\")\n"
   ]
  },
  {
   "cell_type": "code",
   "execution_count": 2,
   "metadata": {
    "ExecuteTime": {
     "end_time": "2020-04-23T09:00:10.022399Z",
     "start_time": "2020-04-23T09:00:10.008091Z"
    }
   },
   "outputs": [],
   "source": [
    "# Dummy environment variables to mimic AWS environment\n",
    "AWS_env = {\n",
    "    'SM_HOSTS': \"{}\",\n",
    "    'SM_CURRENT_HOST': \"localhost\",\n",
    "    'SM_MODEL_DIR': \"model\",\n",
    "    'SM_CHANNEL_TRAIN': \"plagiarism_data\",\n",
    "    'SM_OUTPUT_DATA_DIR': \"\",\n",
    "    'SM_NUM_GPUS': \"1\"\n",
    "}\n",
    "\n",
    "\n",
    "# Useful function to run external script\n",
    "def run_script(script_path, script_args={}):\n",
    "    python_exe = sys.executable\n",
    "\n",
    "    args = [\n",
    "        python_exe,\n",
    "        script_path,\n",
    "    ]\n",
    "\n",
    "    for key, val in script_args.items():\n",
    "        args.extend([\"--{}\".format(key), str(val)])\n",
    "\n",
    "    env = AWS_env.copy()  # Copy in case we modify it\n",
    "\n",
    "    print(\"Running the following command:\\n{}\".format(\n",
    "        \" \".join(args)))\n",
    "\n",
    "    output = subprocess.run(\n",
    "       args,\n",
    "       env=env,\n",
    "       capture_output=True,\n",
    "       text=True\n",
    "       )\n",
    "\n",
    "    if output.returncode != 0:\n",
    "        raise RuntimeError(\n",
    "            \"Script failed!\\nOutput:\\n{}\".format(output.stderr))\n",
    "    else:\n",
    "        print(\"Script gracefully ended.\\nOutput:\\n{}\".format(output.stdout))\n",
    "\n",
    "def print_model_validation(model):\n",
    "    all_x = np.concatenate((train_x, test_x))\n",
    "    all_y = np.concatenate((train_y, test_y))\n",
    "    try:\n",
    "        test_predictions = model.predict(test_x.values)\n",
    "        train_predictions = model.predict(train_x.values)\n",
    "        all_predictions = model.predict(all_x)\n",
    "    except AttributeError:\n",
    "        # Pytorch model\n",
    "        device = torch.device(\"cuda\" if torch.cuda.is_available() else \"cpu\")\n",
    "        \n",
    "        model = model.eval().to(device)\n",
    "        test_data = torch.from_numpy(test_x.values.astype(np.float32)).to(device)\n",
    "        train_data = torch.from_numpy(train_x.values.astype(np.float32)).to(device)\n",
    "        all_data = torch.from_numpy(all_x.astype(np.float32)).to(device)\n",
    "        \n",
    "        test_predictions = np.round(model(test_data).tolist()).astype(int)\n",
    "        train_predictions = np.round(model(train_data).tolist()).astype(int)\n",
    "        all_predictions = np.round(model(all_data).tolist()).astype(int)\n",
    "    \n",
    "    score = accuracy_score(test_y.values, test_predictions) * 100\n",
    "    print(\"Results for {}:\".format(model.__class__.__name__))\n",
    "    print(\"- Accuracies: {:.2f}% (test),  {:.2f}% (train), {:.2f}% (all) -> {}\".format(\n",
    "        score,\n",
    "        accuracy_score(train_y, train_predictions) * 100,\n",
    "        accuracy_score(all_y, all_predictions) * 100,\n",
    "        \"PASSED\" if score > 90 else \"FAILED\"))\n",
    "    print(\"- Confusion matrices:\")\n",
    "    \n",
    "    confusion_matrics = {\n",
    "        \"Test data\" : confusion_matrix(test_y, test_predictions),\n",
    "        \"Train data\" : confusion_matrix(train_y, train_predictions),\n",
    "        \"All data\" : confusion_matrix(all_y, all_predictions),\n",
    "    }\n",
    "    \n",
    "    fig, axes = plt.subplots(ncols=3, figsize=(8,24))\n",
    "    for i, (title, matrix) in enumerate(confusion_matrics.items()):\n",
    "        ax = axes[i]\n",
    "        ax.set_title(title)\n",
    "        visu = ConfusionMatrixDisplay(matrix, [\"Original\", \"Plagiarism\"])\n",
    "        visu.plot(cmap=plt.cm.Blues, ax=ax)\n",
    "        ax.images[0].colorbar.remove()\n",
    "        if i > 0:\n",
    "            ax.get_yaxis().set_visible(False)\n",
    "        \n",
    "    plt.show()"
   ]
  },
  {
   "cell_type": "code",
   "execution_count": 3,
   "metadata": {
    "ExecuteTime": {
     "end_time": "2020-04-23T09:00:10.208455Z",
     "start_time": "2020-04-23T09:00:10.023639Z"
    },
    "run_control": {
     "marked": false
    }
   },
   "outputs": [],
   "source": [
    "# Load data\n",
    "\n",
    "train_data = pd.read_csv(\"plagiarism_data/train.csv\", header=None, names=None)\n",
    "\n",
    "# Labels are in the first column\n",
    "train_y = train_data.iloc[:,0]\n",
    "train_x = train_data.iloc[:,1:]\n",
    "\n",
    "test_data = pd.read_csv(\"plagiarism_data/test.csv\", header=None, names=None)\n",
    "\n",
    "# Labels are in the first column\n",
    "test_y = test_data.iloc[:,0]\n",
    "test_x = test_data.iloc[:,1:]"
   ]
  },
  {
   "cell_type": "markdown",
   "metadata": {
    "ExecuteTime": {
     "end_time": "2020-04-22T13:51:50.348753Z",
     "start_time": "2020-04-22T13:51:50.342542Z"
    }
   },
   "source": [
    "## Creating and testing the Naive Bayes classifier"
   ]
  },
  {
   "cell_type": "code",
   "execution_count": 4,
   "metadata": {
    "ExecuteTime": {
     "end_time": "2020-04-23T09:00:10.670888Z",
     "start_time": "2020-04-23T09:00:10.210561Z"
    }
   },
   "outputs": [
    {
     "name": "stdout",
     "output_type": "stream",
     "text": [
      "Results for GaussianNB:\n",
      "- Accuracies: 100.00% (test),  94.29% (train), 95.79% (all) -> PASSED\n",
      "- Confusion matrices:\n"
     ]
    },
    {
     "data": {
      "image/png": "[encoded data removed]",
      "text/plain": [
       "<Figure size 576x1728 with 3 Axes>"
      ]
     },
     "metadata": {
      "needs_background": "light"
     },
     "output_type": "display_data"
    },
    {
     "name": "stdout",
     "output_type": "stream",
     "text": [
      "CPU times: user 259 ms, sys: 2.59 ms, total: 261 ms\n",
      "Wall time: 259 ms\n"
     ]
    }
   ],
   "source": [
    "%%time\n",
    "\n",
    "clf = GaussianNB() # Base estimator\n",
    "clf.fit(train_x, train_y)\n",
    "\n",
    "print_model_validation(clf)\n"
   ]
  },
  {
   "cell_type": "markdown",
   "metadata": {
    "ExecuteTime": {
     "end_time": "2020-04-22T14:32:26.861523Z",
     "start_time": "2020-04-22T14:32:26.857421Z"
    }
   },
   "source": [
    "## Creating and testing the PyTorch model"
   ]
  },
  {
   "cell_type": "code",
   "execution_count": 5,
   "metadata": {
    "ExecuteTime": {
     "end_time": "2020-04-23T09:00:11.374641Z",
     "start_time": "2020-04-23T09:00:10.672497Z"
    }
   },
   "outputs": [
    {
     "name": "stdout",
     "output_type": "stream",
     "text": [
      "\u001b[37m# torch imports\u001b[39;49;00m\r\n",
      "\u001b[34mimport\u001b[39;49;00m \u001b[04m\u001b[36mtorch\u001b[39;49;00m\u001b[04m\u001b[36m.\u001b[39;49;00m\u001b[04m\u001b[36mnn\u001b[39;49;00m\u001b[04m\u001b[36m.\u001b[39;49;00m\u001b[04m\u001b[36mfunctional\u001b[39;49;00m \u001b[34mas\u001b[39;49;00m \u001b[04m\u001b[36mF\u001b[39;49;00m\r\n",
      "\u001b[34mimport\u001b[39;49;00m \u001b[04m\u001b[36mtorch\u001b[39;49;00m\u001b[04m\u001b[36m.\u001b[39;49;00m\u001b[04m\u001b[36mnn\u001b[39;49;00m \u001b[34mas\u001b[39;49;00m \u001b[04m\u001b[36mnn\u001b[39;49;00m\r\n",
      "\r\n",
      "\r\n",
      "\u001b[37m## TODO: Complete this classifier\u001b[39;49;00m\r\n",
      "\u001b[34mclass\u001b[39;49;00m \u001b[04m\u001b[32mBinaryClassifier\u001b[39;49;00m(nn.Module):\r\n",
      "    \u001b[33m\"\"\"\u001b[39;49;00m\r\n",
      "\u001b[33m    Define a neural network that performs binary classification.\u001b[39;49;00m\r\n",
      "\u001b[33m    The network should accept your number of features as input, and produce \u001b[39;49;00m\r\n",
      "\u001b[33m    a single sigmoid value, that can be rounded to a label: 0 or 1, as output.\u001b[39;49;00m\r\n",
      "\u001b[33m    \u001b[39;49;00m\r\n",
      "\u001b[33m    Notes on training:\u001b[39;49;00m\r\n",
      "\u001b[33m    To train a binary classifier in PyTorch, use BCELoss.\u001b[39;49;00m\r\n",
      "\u001b[33m    BCELoss is binary cross entropy loss, documentation: https://pytorch.org/docs/stable/nn.html#torch.nn.BCELoss\u001b[39;49;00m\r\n",
      "\u001b[33m    \"\"\"\u001b[39;49;00m\r\n",
      "\r\n",
      "    \u001b[37m## TODO: Define the init function, the input params are required (for loading code in train.py to work)\u001b[39;49;00m\r\n",
      "    \u001b[34mdef\u001b[39;49;00m \u001b[32m__init__\u001b[39;49;00m(\u001b[36mself\u001b[39;49;00m, input_features, hidden_dim, output_dim):\r\n",
      "        \u001b[33m\"\"\"\u001b[39;49;00m\r\n",
      "\u001b[33m        Initialize the model by setting up linear layers.\u001b[39;49;00m\r\n",
      "\u001b[33m        Use the input parameters to help define the layers of your model.\u001b[39;49;00m\r\n",
      "\u001b[33m        :param input_features: the number of input features in your training/test data\u001b[39;49;00m\r\n",
      "\u001b[33m        :param hidden_dim: helps define the number of nodes in the hidden layer(s)\u001b[39;49;00m\r\n",
      "\u001b[33m        :param output_dim: the number of outputs you want to produce\u001b[39;49;00m\r\n",
      "\u001b[33m        \"\"\"\u001b[39;49;00m\r\n",
      "        \u001b[36msuper\u001b[39;49;00m(BinaryClassifier, \u001b[36mself\u001b[39;49;00m).\u001b[32m__init__\u001b[39;49;00m()\r\n",
      "\r\n",
      "        \u001b[37m# define any initial layers, here\u001b[39;49;00m\r\n",
      "        \u001b[36mself\u001b[39;49;00m.input_layer = nn.Linear(input_features, hidden_dim)\r\n",
      "        \u001b[36mself\u001b[39;49;00m.dropout = nn.Dropout(\u001b[34m0.2\u001b[39;49;00m)\r\n",
      "        \u001b[36mself\u001b[39;49;00m.hidden_layer = nn.Linear(hidden_dim, output_dim)\r\n",
      "        \u001b[36mself\u001b[39;49;00m.output_layer = nn.Linear(output_dim, \u001b[34m1\u001b[39;49;00m)\r\n",
      "        \u001b[36mself\u001b[39;49;00m.activation = nn.Sigmoid()\r\n",
      "\r\n",
      "    \r\n",
      "    \u001b[37m## TODO: Define the feedforward behavior of the network\u001b[39;49;00m\r\n",
      "    \u001b[34mdef\u001b[39;49;00m \u001b[32mforward\u001b[39;49;00m(\u001b[36mself\u001b[39;49;00m, x):\r\n",
      "        \u001b[33m\"\"\"\u001b[39;49;00m\r\n",
      "\u001b[33m        Perform a forward pass of our model on input features, x.\u001b[39;49;00m\r\n",
      "\u001b[33m        :param x: A batch of input features of size (batch_size, input_features)\u001b[39;49;00m\r\n",
      "\u001b[33m        :return: A single, sigmoid-activated value as output\u001b[39;49;00m\r\n",
      "\u001b[33m        \"\"\"\u001b[39;49;00m\r\n",
      "        \r\n",
      "        \u001b[37m# define the feedforward behavior\u001b[39;49;00m\r\n",
      "        \r\n",
      "        a1 = \u001b[36mself\u001b[39;49;00m.input_layer(x)\r\n",
      "        dout = \u001b[36mself\u001b[39;49;00m.dropout(a1)\r\n",
      "        a2 = \u001b[36mself\u001b[39;49;00m.hidden_layer(dout)\r\n",
      "        a3 = \u001b[36mself\u001b[39;49;00m.output_layer(a2)\r\n",
      "        y = \u001b[36mself\u001b[39;49;00m.activation(a3.squeeze())\r\n",
      "        \r\n",
      "        \u001b[34mreturn\u001b[39;49;00m y\r\n",
      "    \r\n"
     ]
    }
   ],
   "source": [
    "!pygmentize source_pytorch/model.py\n"
   ]
  },
  {
   "cell_type": "code",
   "execution_count": 6,
   "metadata": {
    "ExecuteTime": {
     "end_time": "2020-04-23T09:00:14.150705Z",
     "start_time": "2020-04-23T09:00:11.379932Z"
    }
   },
   "outputs": [
    {
     "name": "stdout",
     "output_type": "stream",
     "text": [
      "Get train data loader.\n",
      "Epoch: 1, Loss: 0.7812682645661491\n",
      "Epoch: 2, Loss: 0.7421102353504726\n",
      "Epoch: 3, Loss: 0.7183866671153477\n",
      "Epoch: 4, Loss: 0.6980492898396083\n",
      "Epoch: 5, Loss: 0.6783029011317662\n",
      "Epoch: 6, Loss: 0.6425322719982692\n",
      "Epoch: 7, Loss: 0.6230431028774807\n",
      "Epoch: 8, Loss: 0.6073594433920724\n",
      "Epoch: 9, Loss: 0.5849015116691589\n",
      "Epoch: 10, Loss: 0.5662366492407662\n",
      "Epoch: 11, Loss: 0.5392773790018899\n",
      "Epoch: 12, Loss: 0.5237755094255719\n",
      "Epoch: 13, Loss: 0.5173969651971545\n",
      "Epoch: 14, Loss: 0.4689957797527313\n",
      "Epoch: 15, Loss: 0.47298947828156607\n",
      "Epoch: 16, Loss: 0.45714673825672697\n",
      "Epoch: 17, Loss: 0.4211261400154659\n",
      "Epoch: 18, Loss: 0.4217843881675175\n",
      "Epoch: 19, Loss: 0.41190989528383526\n",
      "Epoch: 20, Loss: 0.3829768214906965\n",
      "Epoch: 21, Loss: 0.3685687780380249\n",
      "Epoch: 22, Loss: 0.3692865882601057\n",
      "Epoch: 23, Loss: 0.36117214390209745\n",
      "Epoch: 24, Loss: 0.340019519839968\n",
      "Epoch: 25, Loss: 0.34178797687803\n",
      "Epoch: 26, Loss: 0.3186572662421635\n",
      "Epoch: 27, Loss: 0.31538577377796173\n",
      "Epoch: 28, Loss: 0.30385276462350574\n",
      "Epoch: 29, Loss: 0.3155747354030609\n",
      "Epoch: 30, Loss: 0.2823734347309385\n",
      "Epoch: 31, Loss: 0.30475087676729473\n",
      "Epoch: 32, Loss: 0.30322982583727154\n",
      "Epoch: 33, Loss: 0.2947719863482884\n",
      "Epoch: 34, Loss: 0.29811851786715643\n",
      "Epoch: 35, Loss: 0.2646794340440205\n",
      "Epoch: 36, Loss: 0.25424630833523615\n",
      "Epoch: 37, Loss: 0.2802550196647644\n",
      "Epoch: 38, Loss: 0.2719985917210579\n",
      "Epoch: 39, Loss: 0.2550723989095007\n",
      "Epoch: 40, Loss: 0.2502338779824121\n",
      "Epoch: 41, Loss: 0.25304150794233593\n",
      "Epoch: 42, Loss: 0.23979207341160094\n",
      "Epoch: 43, Loss: 0.2507674832429205\n",
      "Epoch: 44, Loss: 0.23829000762530736\n",
      "Epoch: 45, Loss: 0.2427741778748376\n",
      "Epoch: 46, Loss: 0.24906172496931894\n",
      "Epoch: 47, Loss: 0.23159614098923548\n",
      "Epoch: 48, Loss: 0.24703561780708178\n",
      "Epoch: 49, Loss: 0.27518157341650556\n",
      "Epoch: 50, Loss: 0.22992212963955744\n"
     ]
    }
   ],
   "source": [
    "import model\n",
    "import train\n",
    "torch.manual_seed(42)\n",
    "device = torch.device(\"cuda\" if torch.cuda.is_available() else \"cpu\")\n",
    "\n",
    "clf = model.BinaryClassifier(2, 32, 8).to(device)\n",
    "\n",
    "train_loader = train._get_train_data_loader(10, \"plagiarism_data/\")\n",
    "\n",
    "optimizer = torch.optim.Adam(clf.parameters(), lr=0.001)\n",
    "criterion = nn.BCELoss()\n",
    "\n",
    "losses = train.train(clf, train_loader, 50, criterion, optimizer, device)"
   ]
  },
  {
   "cell_type": "code",
   "execution_count": 7,
   "metadata": {
    "ExecuteTime": {
     "end_time": "2020-04-23T09:00:14.348565Z",
     "start_time": "2020-04-23T09:00:14.154915Z"
    }
   },
   "outputs": [
    {
     "data": {
      "image/png": "[encoded data removed]",
      "text/plain": [
       "<Figure size 432x288 with 1 Axes>"
      ]
     },
     "metadata": {
      "needs_background": "light"
     },
     "output_type": "display_data"
    }
   ],
   "source": [
    "# Check if the number of epochs is OK\n",
    "sns.lineplot(x=np.arange(len(losses)), y=losses, palette=\"muted\")\n",
    "plt.xlabel(\"epochs\")\n",
    "plt.ylabel(\"loss\")\n",
    "plt.show()"
   ]
  },
  {
   "cell_type": "code",
   "execution_count": 8,
   "metadata": {
    "ExecuteTime": {
     "end_time": "2020-04-23T09:00:14.689355Z",
     "start_time": "2020-04-23T09:00:14.350353Z"
    }
   },
   "outputs": [
    {
     "name": "stdout",
     "output_type": "stream",
     "text": [
      "Results for BinaryClassifier:\n",
      "- Accuracies: 100.00% (test),  95.71% (train), 96.84% (all) -> PASSED\n",
      "- Confusion matrices:\n"
     ]
    },
    {
     "data": {
      "image/png": "[encoded data removed]",
      "text/plain": [
       "<Figure size 576x1728 with 3 Axes>"
      ]
     },
     "metadata": {
      "needs_background": "light"
     },
     "output_type": "display_data"
    }
   ],
   "source": [
    "print_model_validation(clf)"
   ]
  },
  {
   "cell_type": "markdown",
   "metadata": {},
   "source": [
    "## Test training script (Sklearn model)"
   ]
  },
  {
   "cell_type": "code",
   "execution_count": 9,
   "metadata": {
    "ExecuteTime": {
     "end_time": "2020-04-23T09:00:15.421936Z",
     "start_time": "2020-04-23T09:00:14.691029Z"
    }
   },
   "outputs": [
    {
     "name": "stdout",
     "output_type": "stream",
     "text": [
      "Running the following command:\n",
      "/home/sbuchoux/miniconda3/envs/DataScience/bin/python source_sklearn/train.py\n",
      "Script gracefully ended.\n",
      "Output:\n",
      "Model saved to model/model.joblib\n",
      "\n"
     ]
    }
   ],
   "source": [
    "# Run script\n",
    "run_script(\"source_sklearn/train.py\", {})"
   ]
  },
  {
   "cell_type": "code",
   "execution_count": 10,
   "metadata": {
    "ExecuteTime": {
     "end_time": "2020-04-23T09:00:15.701848Z",
     "start_time": "2020-04-23T09:00:15.424562Z"
    }
   },
   "outputs": [
    {
     "name": "stdout",
     "output_type": "stream",
     "text": [
      "Results for GaussianNB:\n",
      "- Accuracies: 100.00% (test),  94.29% (train), 95.79% (all) -> PASSED\n",
      "- Confusion matrices:\n"
     ]
    },
    {
     "data": {
      "image/png": "[encoded data removed]",
      "text/plain": [
       "<Figure size 576x1728 with 3 Axes>"
      ]
     },
     "metadata": {
      "needs_background": "light"
     },
     "output_type": "display_data"
    }
   ],
   "source": [
    "# Check that the saved model is OK\n",
    "clf = load('model/model.joblib')\n",
    "print_model_validation(clf)"
   ]
  },
  {
   "cell_type": "markdown",
   "metadata": {},
   "source": [
    "## Test training script (Pytorch model)"
   ]
  },
  {
   "cell_type": "code",
   "execution_count": 11,
   "metadata": {
    "ExecuteTime": {
     "end_time": "2020-04-23T09:00:19.160376Z",
     "start_time": "2020-04-23T09:00:15.703323Z"
    }
   },
   "outputs": [
    {
     "name": "stdout",
     "output_type": "stream",
     "text": [
      "Running the following command:\n",
      "/home/sbuchoux/miniconda3/envs/DataScience/bin/python source_pytorch/train.py --epochs 50 --seed 42\n",
      "Script gracefully ended.\n",
      "Output:\n",
      "Using device cuda.\n",
      "Get train data loader.\n",
      "Epoch: 1, Loss: 0.7812682645661491\n",
      "Epoch: 2, Loss: 0.7421102353504726\n",
      "Epoch: 3, Loss: 0.7183866671153477\n",
      "Epoch: 4, Loss: 0.6980492898396083\n",
      "Epoch: 5, Loss: 0.6783029011317662\n",
      "Epoch: 6, Loss: 0.6425322719982692\n",
      "Epoch: 7, Loss: 0.6230431028774807\n",
      "Epoch: 8, Loss: 0.6073594433920724\n",
      "Epoch: 9, Loss: 0.5849015116691589\n",
      "Epoch: 10, Loss: 0.5662366492407662\n",
      "Epoch: 11, Loss: 0.5392773790018899\n",
      "Epoch: 12, Loss: 0.5237755094255719\n",
      "Epoch: 13, Loss: 0.5173969651971545\n",
      "Epoch: 14, Loss: 0.4689957797527313\n",
      "Epoch: 15, Loss: 0.47298947828156607\n",
      "Epoch: 16, Loss: 0.45714673825672697\n",
      "Epoch: 17, Loss: 0.4211261400154659\n",
      "Epoch: 18, Loss: 0.4217843881675175\n",
      "Epoch: 19, Loss: 0.41190989528383526\n",
      "Epoch: 20, Loss: 0.3829768214906965\n",
      "Epoch: 21, Loss: 0.3685687780380249\n",
      "Epoch: 22, Loss: 0.3692865882601057\n",
      "Epoch: 23, Loss: 0.36117214390209745\n",
      "Epoch: 24, Loss: 0.340019519839968\n",
      "Epoch: 25, Loss: 0.34178797687803\n",
      "Epoch: 26, Loss: 0.3186572662421635\n",
      "Epoch: 27, Loss: 0.31538577377796173\n",
      "Epoch: 28, Loss: 0.30385276462350574\n",
      "Epoch: 29, Loss: 0.3155747354030609\n",
      "Epoch: 30, Loss: 0.2823734347309385\n",
      "Epoch: 31, Loss: 0.30475087676729473\n",
      "Epoch: 32, Loss: 0.30322982583727154\n",
      "Epoch: 33, Loss: 0.2947719863482884\n",
      "Epoch: 34, Loss: 0.29811851786715643\n",
      "Epoch: 35, Loss: 0.2646794340440205\n",
      "Epoch: 36, Loss: 0.25424630833523615\n",
      "Epoch: 37, Loss: 0.2802550196647644\n",
      "Epoch: 38, Loss: 0.2719985917210579\n",
      "Epoch: 39, Loss: 0.2550723989095007\n",
      "Epoch: 40, Loss: 0.2502338779824121\n",
      "Epoch: 41, Loss: 0.25304150794233593\n",
      "Epoch: 42, Loss: 0.23979207341160094\n",
      "Epoch: 43, Loss: 0.2507674832429205\n",
      "Epoch: 44, Loss: 0.23829000762530736\n",
      "Epoch: 45, Loss: 0.2427741778748376\n",
      "Epoch: 46, Loss: 0.24906172496931894\n",
      "Epoch: 47, Loss: 0.23159614098923548\n",
      "Epoch: 48, Loss: 0.24703561780708178\n",
      "Epoch: 49, Loss: 0.27518157341650556\n",
      "Epoch: 50, Loss: 0.22992212963955744\n",
      "Model saved to model/model.pth\n",
      "\n"
     ]
    }
   ],
   "source": [
    "# Run script\n",
    "run_script(\"source_pytorch/train.py\", {\"epochs\": 50, \"seed\":42})"
   ]
  },
  {
   "cell_type": "code",
   "execution_count": 12,
   "metadata": {
    "ExecuteTime": {
     "end_time": "2020-04-23T09:00:19.443161Z",
     "start_time": "2020-04-23T09:00:19.163658Z"
    }
   },
   "outputs": [
    {
     "name": "stdout",
     "output_type": "stream",
     "text": [
      "Loading model.\n",
      "model_info: {'input_features': 2, 'hidden_dim': 32, 'output_dim': 8}\n",
      "Done loading model.\n",
      "Results for BinaryClassifier:\n",
      "- Accuracies: 100.00% (test),  95.71% (train), 96.84% (all) -> PASSED\n",
      "- Confusion matrices:\n"
     ]
    },
    {
     "data": {
      "image/png": "[encoded data removed]",
      "text/plain": [
       "<Figure size 576x1728 with 3 Axes>"
      ]
     },
     "metadata": {
      "needs_background": "light"
     },
     "output_type": "display_data"
    }
   ],
   "source": [
    "# Check that the saved model is OK\n",
    "import predict\n",
    "\n",
    "clf = predict.model_fn(\"model/\")\n",
    "\n",
    "print_model_validation(clf)"
   ]
  },
  {
   "cell_type": "code",
   "execution_count": 13,
   "metadata": {
    "ExecuteTime": {
     "end_time": "2020-04-23T09:00:19.536480Z",
     "start_time": "2020-04-23T09:00:19.446035Z"
    }
   },
   "outputs": [
    {
     "name": "stdout",
     "output_type": "stream",
     "text": [
      "Predicting class labels for the input data...\n",
      "100.00%\n",
      "[[10  0]\n",
      " [ 0 15]]\n"
     ]
    },
    {
     "data": {
      "text/plain": [
       "0"
      ]
     },
     "execution_count": 13,
     "metadata": {},
     "output_type": "execute_result"
    }
   ],
   "source": [
    "predictions = predict.predict_fn(test_x.values, clf)\n",
    "\n",
    "print(\"{:.2f}%\".format(accuracy_score(test_y, predictions)*100))\n",
    "print(confusion_matrix(test_y, predictions))\n",
    "confusion_matrix(test_y, predictions)[0,1]"
   ]
  }
 ],
 "metadata": {
  "kernelspec": {
   "display_name": "Python 3",
   "language": "python",
   "name": "python3"
  },
  "language_info": {
   "codemirror_mode": {
    "name": "ipython",
    "version": 3
   },
   "file_extension": ".py",
   "mimetype": "text/x-python",
   "name": "python",
   "nbconvert_exporter": "python",
   "pygments_lexer": "ipython3",
   "version": "3.7.7"
  },
  "varInspector": {
   "cols": {
    "lenName": 16,
    "lenType": 16,
    "lenVar": 40
   },
   "kernels_config": {
    "python": {
     "delete_cmd_postfix": "",
     "delete_cmd_prefix": "del ",
     "library": "var_list.py",
     "varRefreshCmd": "print(var_dic_list())"
    },
    "r": {
     "delete_cmd_postfix": ") ",
     "delete_cmd_prefix": "rm(",
     "library": "var_list.r",
     "varRefreshCmd": "cat(var_dic_list()) "
    }
   },
   "types_to_exclude": [
    "module",
    "function",
    "builtin_function_or_method",
    "instance",
    "_Feature"
   ],
   "window_display": false
  }
 },
 "nbformat": 4,
 "nbformat_minor": 4
}
